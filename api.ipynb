{
 "cells": [
  {
   "cell_type": "code",
   "execution_count": 6,
   "metadata": {},
   "outputs": [],
   "source": [
    "import requests\n",
    "import os\n",
    "from dotenv import load_dotenv\n",
    "load_dotenv()\n",
    "from urllib.parse import urlencode\n",
    "import json"
   ]
  },
  {
   "cell_type": "markdown",
   "metadata": {},
   "source": [
    "Заходим в аккаунт Авито, тариф \"Расширенный\" или \"Максимальный\", переходим в раздел \"Профиль и настройки\" - \"Интеграции и API\" в параграфе \"Собственная разработка\" нажимаем на кнопку \"Получить ключи\". \n",
    "Client_id: '<CLIENT_ID>'\n",
    "Client_secret: '<CLIENT_SECRET>'\n",
    "Документация по API Avito: https://developers.avito.ru/api-catalog/auth/documentation#\n",
    "Используем метод client_credentials (персональная авторизация)\n",
    "Важно: время действия токена ограничено — 24 часа с момента его получения. "
   ]
  },
  {
   "cell_type": "markdown",
   "metadata": {},
   "source": [
    "Сохраняем все данные в .env"
   ]
  },
  {
   "cell_type": "code",
   "execution_count": null,
   "metadata": {},
   "outputs": [],
   "source": [
    "client_secret = os.getenv('client_secret')\n",
    "Client_id = os.getenv('Client_id')"
   ]
  },
  {
   "cell_type": "markdown",
   "metadata": {},
   "source": [
    "Для работы с API от своего лица необходимо получить токен авторизации — отдельный для каждой учетной записи на Авито.\n",
    "1. Получаем client_id и client_secret в личном кабинете (Получение описано выше)\n",
    "2. Выписываем себе токен:\n",
    "import requests\n",
    "data = {\n",
    "    'grant_type': 'client_credentials',\n",
    "    'client_id': '<CLIENT_ID>',\n",
    "    'client_secret': '<CLIENT_SECRET>',\n",
    "}\n",
    "response = requests.post('https://api.avito.ru/token/', data=data)\n",
    "\n",
    "3. Далее выполняем запросы к API с заголовком Authorization: Bearer <ACCESS_TOKEN>\n",
    "Время действия токена ограничено - 24 часа с момента его получения. После этого вам необходимо получить новый токен."
   ]
  },
  {
   "cell_type": "code",
   "execution_count": 7,
   "metadata": {},
   "outputs": [],
   "source": [
    "#2. Выписываем себе токен\n",
    "data = {\n",
    "    'grant_type': 'client_credentials',\n",
    "    'client_id': Client_id,\n",
    "    'client_secret': client_secret,\n",
    "}\n",
    "response = requests.post('https://api.avito.ru/token/', data=data)"
   ]
  },
  {
   "cell_type": "code",
   "execution_count": null,
   "metadata": {},
   "outputs": [],
   "source": [
    "# Вытаскиваем токен из полученного ответа и сохраняем его в переменной \n",
    "access_token = response.json()['access_token']"
   ]
  },
  {
   "cell_type": "code",
   "execution_count": 15,
   "metadata": {},
   "outputs": [],
   "source": [
    "#3. Выполняем запросы с заголовком. Все запросы делаются по общему стандарту:\n",
    "# https://<адрес-сервера>/method/<имя-API-метода>?<параметры>\n",
    "headers = {'Authorization': f'Bearer {access_token}'}\n",
    "res = requests.get('https://api.avito.ru/core/v1/accounts/self', headers=headers)"
   ]
  },
  {
   "cell_type": "code",
   "execution_count": null,
   "metadata": {},
   "outputs": [],
   "source": [
    "# Получение информации об авторизованном пользователе и сохраняем его айди\n",
    "reg_user_id = res.json()['id']"
   ]
  },
  {
   "cell_type": "code",
   "execution_count": null,
   "metadata": {},
   "outputs": [],
   "source": [
    "# Получение баланса кошелька пользователя\n",
    "headers = {'Authorization': f'Bearer {access_token}'}\n",
    "user_id = reg_user_id\n",
    "res = requests.get(f'https://api.avito.ru/core/v1/accounts/{user_id}/balance/', headers=headers)\n",
    "res.json()"
   ]
  },
  {
   "cell_type": "code",
   "execution_count": null,
   "metadata": {},
   "outputs": [],
   "source": [
    "# Получение истории операций пользователя\n",
    "headers = {'Authorization': f'Bearer {access_token}'}\n",
    "body={\n",
    "    \"dateTimeFrom\": \"2024-12-01T00:00:00\",\n",
    "    \"dateTimeTo\": \"2024-12-14T00:00:00\"\n",
    "}\n",
    "res = requests.post(f'https://api.avito.ru/core/v1/accounts/operations_history/', headers=headers, json=body)\n",
    "res.json()\n"
   ]
  },
  {
   "cell_type": "code",
   "execution_count": null,
   "metadata": {},
   "outputs": [],
   "source": [
    "# Звонки по времени\n",
    "headers = {'Authorization': f'Bearer {access_token}'}\n",
    "body={\n",
    "  \"dateTimeFrom\": \"2024-12-12T00:00:00Z\",\n",
    "  \"dateTimeTo\": \"2024-12-14T23:59:59Z\",\n",
    "  \"limit\": 100,\n",
    "  \"offset\": 0\n",
    "}\n",
    "res = requests.post(f'https://api.avito.ru/calltracking/v1/getCalls/', headers=headers, json=body)\n",
    "res.json()\n"
   ]
  },
  {
   "cell_type": "code",
   "execution_count": null,
   "metadata": {},
   "outputs": [],
   "source": [
    "# Получаем id звонков\n",
    "call_id_users = [a['callId'] for a in res.json()['calls']]\n",
    "call_id_users"
   ]
  }
 ],
 "metadata": {
  "kernelspec": {
   "display_name": "venv",
   "language": "python",
   "name": "python3"
  },
  "language_info": {
   "codemirror_mode": {
    "name": "ipython",
    "version": 3
   },
   "file_extension": ".py",
   "mimetype": "text/x-python",
   "name": "python",
   "nbconvert_exporter": "python",
   "pygments_lexer": "ipython3",
   "version": "3.13.0"
  }
 },
 "nbformat": 4,
 "nbformat_minor": 2
}
